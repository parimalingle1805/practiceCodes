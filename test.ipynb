{
 "cells": [
  {
   "cell_type": "code",
   "outputs": [],
   "source": [
    "import numpy as np\n",
    "import pandas as pd"
   ],
   "metadata": {
    "collapsed": false,
    "ExecuteTime": {
     "end_time": "2024-02-02T20:45:09.622527500Z",
     "start_time": "2024-02-02T20:45:09.599281900Z"
    }
   },
   "id": "f7bfa69a0e2ef21e",
   "execution_count": 17
  },
  {
   "cell_type": "code",
   "outputs": [],
   "source": [
    "a = np.array([1,2,3])"
   ],
   "metadata": {
    "collapsed": false,
    "ExecuteTime": {
     "end_time": "2024-02-02T20:45:09.623334100Z",
     "start_time": "2024-02-02T20:45:09.611788100Z"
    }
   },
   "id": "efab4a90a58280c2",
   "execution_count": 18
  },
  {
   "cell_type": "code",
   "outputs": [
    {
     "data": {
      "text/plain": "3"
     },
     "execution_count": 19,
     "metadata": {},
     "output_type": "execute_result"
    }
   ],
   "source": [
    "a[-1]"
   ],
   "metadata": {
    "collapsed": false,
    "ExecuteTime": {
     "end_time": "2024-02-02T20:45:09.680656100Z",
     "start_time": "2024-02-02T20:45:09.618974600Z"
    }
   },
   "id": "e27dc28d10478469",
   "execution_count": 19
  },
  {
   "cell_type": "code",
   "outputs": [
    {
     "name": "stdout",
     "output_type": "stream",
     "text": [
      "[[100 100 100 100 100]\n",
      " [100 100 100 100 100]]\n"
     ]
    }
   ],
   "source": [
    "a = np.array([[1, 2, 3, 4, 5], [6, 7, 8, 9, 10]])\n",
    "\n",
    "print(np.full_like(a, 100))"
   ],
   "metadata": {
    "collapsed": false,
    "ExecuteTime": {
     "end_time": "2024-02-02T20:45:09.682429Z",
     "start_time": "2024-02-02T20:45:09.628718Z"
    }
   },
   "id": "a2cf320cfe374869",
   "execution_count": 20
  },
  {
   "cell_type": "code",
   "outputs": [],
   "source": [
    "a = np.array([0,1,2,3,4,5,6,7,8])"
   ],
   "metadata": {
    "collapsed": false,
    "ExecuteTime": {
     "end_time": "2024-02-02T20:45:09.683509300Z",
     "start_time": "2024-02-02T20:45:09.639875600Z"
    }
   },
   "id": "897a34d507150b5d",
   "execution_count": 21
  },
  {
   "cell_type": "code",
   "outputs": [
    {
     "data": {
      "text/plain": "4.0"
     },
     "execution_count": 22,
     "metadata": {},
     "output_type": "execute_result"
    }
   ],
   "source": [
    "mean = np.mean(a)\n",
    "mean"
   ],
   "metadata": {
    "collapsed": false,
    "ExecuteTime": {
     "end_time": "2024-02-02T20:45:09.683509300Z",
     "start_time": "2024-02-02T20:45:09.647235100Z"
    }
   },
   "id": "1112ed5d095f18f7",
   "execution_count": 22
  },
  {
   "cell_type": "code",
   "outputs": [
    {
     "data": {
      "text/plain": "6.666666666666667"
     },
     "execution_count": 23,
     "metadata": {},
     "output_type": "execute_result"
    }
   ],
   "source": [
    "variance = np.var(a)\n",
    "variance"
   ],
   "metadata": {
    "collapsed": false,
    "ExecuteTime": {
     "end_time": "2024-02-02T20:45:09.770529300Z",
     "start_time": "2024-02-02T20:45:09.657003100Z"
    }
   },
   "id": "7081d3c539096d0b",
   "execution_count": 23
  },
  {
   "cell_type": "code",
   "outputs": [
    {
     "data": {
      "text/plain": "2.581988897471611"
     },
     "execution_count": 24,
     "metadata": {},
     "output_type": "execute_result"
    }
   ],
   "source": [
    "std = np.std(a)\n",
    "std"
   ],
   "metadata": {
    "collapsed": false,
    "ExecuteTime": {
     "end_time": "2024-02-02T20:45:09.771615400Z",
     "start_time": "2024-02-02T20:45:09.668804800Z"
    }
   },
   "id": "a1f1be070e43c58a",
   "execution_count": 24
  },
  {
   "cell_type": "code",
   "outputs": [
    {
     "data": {
      "text/plain": "array([[0, 1, 2],\n       [3, 4, 5],\n       [6, 7, 8]])"
     },
     "execution_count": 25,
     "metadata": {},
     "output_type": "execute_result"
    }
   ],
   "source": [
    "b = np.array([a[:3], a[3:6], a[6:]])\n",
    "b"
   ],
   "metadata": {
    "collapsed": false,
    "ExecuteTime": {
     "end_time": "2024-02-02T20:45:09.807261300Z",
     "start_time": "2024-02-02T20:45:09.679499900Z"
    }
   },
   "id": "98540306cfba48a9",
   "execution_count": 25
  },
  {
   "cell_type": "code",
   "outputs": [
    {
     "data": {
      "text/plain": "{'mean': [array([3., 4., 5.]), array([1., 4., 7.]), 4.0],\n 'variance': [array([6., 6., 6.]),\n  array([0.66666667, 0.66666667, 0.66666667]),\n  6.666666666666667],\n 'standard deviation': [array([2.44948974, 2.44948974, 2.44948974]),\n  array([0.81649658, 0.81649658, 0.81649658]),\n  2.581988897471611]}"
     },
     "execution_count": 26,
     "metadata": {},
     "output_type": "execute_result"
    }
   ],
   "source": [
    "d ={}\n",
    "d['mean'] = [np.mean(b, axis=0), np.mean(b, axis=1), np.mean(b.flatten())]\n",
    "d['variance'] = [np.var(b, axis=0), np.var(b, axis=1), np.var(b.flatten())]\n",
    "d['standard deviation'] = [np.std(b, axis=0), np.std(b, axis=1), np.std(b.flatten())]\n",
    "d"
   ],
   "metadata": {
    "collapsed": false,
    "ExecuteTime": {
     "end_time": "2024-02-02T20:45:09.808260800Z",
     "start_time": "2024-02-02T20:45:09.686849900Z"
    }
   },
   "id": "4f2a57b5166c72fe",
   "execution_count": 26
  },
  {
   "cell_type": "code",
   "outputs": [
    {
     "data": {
      "text/plain": "array([1., 4., 7.])"
     },
     "execution_count": 28,
     "metadata": {},
     "output_type": "execute_result"
    }
   ],
   "source": [
    "np.mean(b, axis=1)"
   ],
   "metadata": {
    "collapsed": false,
    "ExecuteTime": {
     "end_time": "2024-02-02T20:46:14.722408100Z",
     "start_time": "2024-02-02T20:46:14.690189600Z"
    }
   },
   "id": "15b1c167e42818ac",
   "execution_count": 28
  }
 ],
 "metadata": {
  "kernelspec": {
   "display_name": "Python 3",
   "language": "python",
   "name": "python3"
  },
  "language_info": {
   "codemirror_mode": {
    "name": "ipython",
    "version": 2
   },
   "file_extension": ".py",
   "mimetype": "text/x-python",
   "name": "python",
   "nbconvert_exporter": "python",
   "pygments_lexer": "ipython2",
   "version": "2.7.6"
  }
 },
 "nbformat": 4,
 "nbformat_minor": 5
}
